{
  "nbformat": 4,
  "nbformat_minor": 0,
  "metadata": {
    "colab": {
      "name": "day5.ipynb",
      "provenance": [],
      "collapsed_sections": []
    },
    "kernelspec": {
      "name": "python3",
      "display_name": "Python 3"
    }
  },
  "cells": [
    {
      "cell_type": "code",
      "metadata": {
        "id": "UKpXDbjguJVj",
        "colab_type": "code",
        "colab": {
          "base_uri": "https://localhost:8080/",
          "height": 679
        },
        "outputId": "cc07bbbf-73e9-45bd-87f7-311f2d5da122"
      },
      "source": [
        "!pip install --upgrade tables\n",
        "!pip install eli5\n",
        "!pip install xgboost\n",
        "!pip install hyperopt"
      ],
      "execution_count": 1,
      "outputs": [
        {
          "output_type": "stream",
          "text": [
            "Collecting tables\n",
            "\u001b[?25l  Downloading https://files.pythonhosted.org/packages/ed/c3/8fd9e3bb21872f9d69eb93b3014c86479864cca94e625fd03713ccacec80/tables-3.6.1-cp36-cp36m-manylinux1_x86_64.whl (4.3MB)\n",
            "\u001b[K     |████████████████████████████████| 4.3MB 2.8MB/s \n",
            "\u001b[?25hRequirement already satisfied, skipping upgrade: numpy>=1.9.3 in /usr/local/lib/python3.6/dist-packages (from tables) (1.17.5)\n",
            "Requirement already satisfied, skipping upgrade: numexpr>=2.6.2 in /usr/local/lib/python3.6/dist-packages (from tables) (2.7.1)\n",
            "Installing collected packages: tables\n",
            "  Found existing installation: tables 3.4.4\n",
            "    Uninstalling tables-3.4.4:\n",
            "      Successfully uninstalled tables-3.4.4\n",
            "Successfully installed tables-3.6.1\n",
            "Collecting eli5\n",
            "\u001b[?25l  Downloading https://files.pythonhosted.org/packages/97/2f/c85c7d8f8548e460829971785347e14e45fa5c6617da374711dec8cb38cc/eli5-0.10.1-py2.py3-none-any.whl (105kB)\n",
            "\u001b[K     |████████████████████████████████| 112kB 2.7MB/s \n",
            "\u001b[?25hRequirement already satisfied: six in /usr/local/lib/python3.6/dist-packages (from eli5) (1.12.0)\n",
            "Requirement already satisfied: scipy in /usr/local/lib/python3.6/dist-packages (from eli5) (1.4.1)\n",
            "Requirement already satisfied: jinja2 in /usr/local/lib/python3.6/dist-packages (from eli5) (2.11.1)\n",
            "Requirement already satisfied: scikit-learn>=0.18 in /usr/local/lib/python3.6/dist-packages (from eli5) (0.22.1)\n",
            "Requirement already satisfied: graphviz in /usr/local/lib/python3.6/dist-packages (from eli5) (0.10.1)\n",
            "Requirement already satisfied: numpy>=1.9.0 in /usr/local/lib/python3.6/dist-packages (from eli5) (1.17.5)\n",
            "Requirement already satisfied: tabulate>=0.7.7 in /usr/local/lib/python3.6/dist-packages (from eli5) (0.8.6)\n",
            "Requirement already satisfied: attrs>16.0.0 in /usr/local/lib/python3.6/dist-packages (from eli5) (19.3.0)\n",
            "Requirement already satisfied: MarkupSafe>=0.23 in /usr/local/lib/python3.6/dist-packages (from jinja2->eli5) (1.1.1)\n",
            "Requirement already satisfied: joblib>=0.11 in /usr/local/lib/python3.6/dist-packages (from scikit-learn>=0.18->eli5) (0.14.1)\n",
            "Installing collected packages: eli5\n",
            "Successfully installed eli5-0.10.1\n",
            "Requirement already satisfied: xgboost in /usr/local/lib/python3.6/dist-packages (0.90)\n",
            "Requirement already satisfied: scipy in /usr/local/lib/python3.6/dist-packages (from xgboost) (1.4.1)\n",
            "Requirement already satisfied: numpy in /usr/local/lib/python3.6/dist-packages (from xgboost) (1.17.5)\n",
            "Requirement already satisfied: hyperopt in /usr/local/lib/python3.6/dist-packages (0.1.2)\n",
            "Requirement already satisfied: numpy in /usr/local/lib/python3.6/dist-packages (from hyperopt) (1.17.5)\n",
            "Requirement already satisfied: networkx in /usr/local/lib/python3.6/dist-packages (from hyperopt) (2.4)\n",
            "Requirement already satisfied: six in /usr/local/lib/python3.6/dist-packages (from hyperopt) (1.12.0)\n",
            "Requirement already satisfied: scipy in /usr/local/lib/python3.6/dist-packages (from hyperopt) (1.4.1)\n",
            "Requirement already satisfied: pymongo in /usr/local/lib/python3.6/dist-packages (from hyperopt) (3.10.1)\n",
            "Requirement already satisfied: future in /usr/local/lib/python3.6/dist-packages (from hyperopt) (0.16.0)\n",
            "Requirement already satisfied: tqdm in /usr/local/lib/python3.6/dist-packages (from hyperopt) (4.28.1)\n",
            "Requirement already satisfied: decorator>=4.3.0 in /usr/local/lib/python3.6/dist-packages (from networkx->hyperopt) (4.4.1)\n"
          ],
          "name": "stdout"
        }
      ]
    },
    {
      "cell_type": "code",
      "metadata": {
        "id": "27ZrcFDfuTfw",
        "colab_type": "code",
        "colab": {
          "base_uri": "https://localhost:8080/",
          "height": 171
        },
        "outputId": "f47c124a-48d0-474c-f9f3-e7c8c20412ee"
      },
      "source": [
        "import pandas as pd\n",
        "import numpy as np\n",
        "\n",
        "import xgboost as xgb\n",
        "\n",
        "from sklearn.metrics import mean_absolute_error as mae \n",
        "from sklearn.model_selection import cross_val_score, KFold\n",
        "\n",
        "from hyperopt import hp, fmin, tpe, STATUS_OK\n",
        "from eli5.sklearn import PermutationImportance\n"
      ],
      "execution_count": 2,
      "outputs": [
        {
          "output_type": "stream",
          "text": [
            "/usr/local/lib/python3.6/dist-packages/sklearn/utils/deprecation.py:144: FutureWarning: The sklearn.metrics.scorer module is  deprecated in version 0.22 and will be removed in version 0.24. The corresponding classes / functions should instead be imported from sklearn.metrics. Anything that cannot be imported from sklearn.metrics is now part of the private API.\n",
            "  warnings.warn(message, FutureWarning)\n",
            "/usr/local/lib/python3.6/dist-packages/sklearn/utils/deprecation.py:144: FutureWarning: The sklearn.feature_selection.base module is  deprecated in version 0.22 and will be removed in version 0.24. The corresponding classes / functions should instead be imported from sklearn.feature_selection. Anything that cannot be imported from sklearn.feature_selection is now part of the private API.\n",
            "  warnings.warn(message, FutureWarning)\n",
            "Using TensorFlow backend.\n"
          ],
          "name": "stderr"
        },
        {
          "output_type": "display_data",
          "data": {
            "text/html": [
              "<p style=\"color: red;\">\n",
              "The default version of TensorFlow in Colab will soon switch to TensorFlow 2.x.<br>\n",
              "We recommend you <a href=\"https://www.tensorflow.org/guide/migrate\" target=\"_blank\">upgrade</a> now \n",
              "or ensure your notebook will continue to use TensorFlow 1.x via the <code>%tensorflow_version 1.x</code> magic:\n",
              "<a href=\"https://colab.research.google.com/notebooks/tensorflow_version.ipynb\" target=\"_blank\">more info</a>.</p>\n"
            ],
            "text/plain": [
              "<IPython.core.display.HTML object>"
            ]
          },
          "metadata": {
            "tags": []
          }
        }
      ]
    },
    {
      "cell_type": "code",
      "metadata": {
        "id": "dFANVlvdvAIb",
        "colab_type": "code",
        "colab": {
          "base_uri": "https://localhost:8080/",
          "height": 35
        },
        "outputId": "a6ccffdb-9e66-4edb-89ac-d33def39bc0f"
      },
      "source": [
        "cd \"/content/drive/My Drive/Colab Notebooks/dw_matrix/matrix_two/dw_matrix_cars/\""
      ],
      "execution_count": 3,
      "outputs": [
        {
          "output_type": "stream",
          "text": [
            "/content/drive/My Drive/Colab Notebooks/dw_matrix/matrix_two/dw_matrix_cars\n"
          ],
          "name": "stdout"
        }
      ]
    },
    {
      "cell_type": "code",
      "metadata": {
        "id": "iYwqO8AIvFIv",
        "colab_type": "code",
        "colab": {
          "base_uri": "https://localhost:8080/",
          "height": 35
        },
        "outputId": "ad9a56ae-2a9f-4e4f-d309-882dfd57a995"
      },
      "source": [
        "df = pd.read_hdf('data/car.h5')\n",
        "df.shape"
      ],
      "execution_count": 4,
      "outputs": [
        {
          "output_type": "execute_result",
          "data": {
            "text/plain": [
              "(106494, 155)"
            ]
          },
          "metadata": {
            "tags": []
          },
          "execution_count": 4
        }
      ]
    },
    {
      "cell_type": "markdown",
      "metadata": {
        "id": "GSsRJkvavR8T",
        "colab_type": "text"
      },
      "source": [
        "Feature engineering"
      ]
    },
    {
      "cell_type": "code",
      "metadata": {
        "id": "LloDifk-vLIz",
        "colab_type": "code",
        "colab": {}
      },
      "source": [
        "SUFFIX_CAT = '__cat'\n",
        "\n",
        "for feat in df.columns:\n",
        "  if isinstance(df[feat][0], list):\n",
        "    continue\n",
        "\n",
        "  factorize_values = df[feat].factorize()[0]\n",
        "  if SUFFIX_CAT in feat:\n",
        "    df[feat] = factorize_values\n",
        "  else:\n",
        "    df[feat + SUFFIX_CAT] = factorize_values"
      ],
      "execution_count": 0,
      "outputs": []
    },
    {
      "cell_type": "code",
      "metadata": {
        "id": "xCQ9XG7RvQVE",
        "colab_type": "code",
        "colab": {}
      },
      "source": [
        "df['param_rok-produkcji__int'] = df['param_rok-produkcji'].map(lambda x: -1 if str(x) == 'None' else int(x))\n",
        "df['param_moc__int']  = df['param_moc'].map(lambda x: -1 if str(x) == 'None' else int(x.split(' ')[0]))\n",
        "df['param_pojemność-skokowa__int'] = df['param_pojemność-skokowa'].map(lambda x: -1 if str(x) == 'None' else int(str(x).split(' cm3')[0].replace(' ', '')))\n",
        "df['param_przebieg__int'] = df['param_przebieg'].map(lambda x: -1 if str(x) == 'None' else int(str(x).split(' km')[0].replace(' ', '')))"
      ],
      "execution_count": 0,
      "outputs": []
    },
    {
      "cell_type": "code",
      "metadata": {
        "id": "Q0i06qctvPNZ",
        "colab_type": "code",
        "colab": {}
      },
      "source": [
        "def run_model(model, feats):\n",
        "  X = df[feats].values\n",
        "  y = df['price_value'].values\n",
        "  scores = cross_val_score(model, X, y, cv=3, scoring='neg_mean_absolute_error')\n",
        "  return np.mean(scores), np.std(scores)"
      ],
      "execution_count": 0,
      "outputs": []
    },
    {
      "cell_type": "code",
      "metadata": {
        "id": "Y9-zFNTGwrlu",
        "colab_type": "code",
        "colab": {}
      },
      "source": [
        "feats = ['param_przebieg__int', 'param_fuel-type__cat', 'seller_type__cat', 'feature_klimatyzacja-dwustrefowa', 'param_napęd__cat', 'param_faktura-vat__cat', 'param_stan__cat', 'param_rok-produkcji__int', 'param_moc__int', 'param_skrzynia-biegów__cat', 'feature_kamera-cofania__cat', 'param_marka-pojazdu__cat', 'param_pojemność-skokowa__int', 'feature_bluetooth__cat', 'feature_łopatki-zmiany-biegów__cat', 'feature_światła-led__cat', 'feature_klimatyzacja-manualna__cat', 'param_kod-silnika__cat', 'feature_gniazdo-aux__cat', 'feature_klimatyzacja-automatyczna__cat', 'feature_radio-fabryczne__cat', 'feature_czujniki-parkowania-tylne__cat', 'feature_poduszki-boczne-tylne__cat', 'feature_odtwarzacz-dvd__cat']"
      ],
      "execution_count": 0,
      "outputs": []
    },
    {
      "cell_type": "code",
      "metadata": {
        "id": "1JB4beGgwijT",
        "colab_type": "code",
        "colab": {
          "base_uri": "https://localhost:8080/",
          "height": 35
        },
        "outputId": "a192919c-97cc-4675-b1d2-fb12ef89d405"
      },
      "source": [
        "xgb_params = {\n",
        "    'max_depth': 5,\n",
        "    'n_esimators': 50,\n",
        "    'learning_rate': 0.1,\n",
        "    'seed': 0,\n",
        "    'objective': 'reg:squarederror',\n",
        "    'nthread': -1\n",
        "}\n",
        "\n",
        "run_model(xgb.XGBRegressor(**xgb_params), feats) #(-8221.313056568333, 49.7301118662453)"
      ],
      "execution_count": 31,
      "outputs": [
        {
          "output_type": "execute_result",
          "data": {
            "text/plain": [
              "(-9281.896007734778, 95.28842284805155)"
            ]
          },
          "metadata": {
            "tags": []
          },
          "execution_count": 31
        }
      ]
    },
    {
      "cell_type": "code",
      "metadata": {
        "id": "mAPzCOtpw0U5",
        "colab_type": "code",
        "colab": {}
      },
      "source": [
        "feats = ['param_moc__int', \n",
        "         'param_rok-produkcji__int',\n",
        "         'param_pojemność-skokowa__int',\n",
        "         'param_przebieg__int',\n",
        "         'param_napęd__cat', \n",
        "         'param_faktura-vat__cat',\n",
        "         'param_stan__cat', \n",
        "         'feature_kamera-cofania__cat', \n",
        "         'param_skrzynia-biegów__cat', \n",
        "         'param_marka-pojazdu__cat', \n",
        "         'feature_bluetooth__cat', \n",
        "         'feature_łopatki-zmiany-biegów__cat', \n",
        "         'feature_światła-led__cat', \n",
        "         'feature_klimatyzacja-manualna__cat', \n",
        "         'param_kod-silnika__cat', \n",
        "         'feature_gniazdo-aux__cat', \n",
        "         'feature_klimatyzacja-automatyczna__cat', \n",
        "         'feature_radio-fabryczne__cat', \n",
        "         'feature_czujniki-parkowania-tylne__cat', \n",
        "         'feature_poduszki-boczne-tylne__cat', \n",
        "         'feature_odtwarzacz-dvd__cat']"
      ],
      "execution_count": 0,
      "outputs": []
    },
    {
      "cell_type": "code",
      "metadata": {
        "id": "6ARfIe5qZbEs",
        "colab_type": "code",
        "colab": {}
      },
      "source": [
        "feats_big = ['param_moc__int', \n",
        "            'param_rok-produkcji__int',\n",
        "            'param_pojemność-skokowa__int',\n",
        "            'param_przebieg__int', \n",
        "            'created_at__cat',\n",
        "            'seller_address__cat',\n",
        "            'seller_name__cat',\n",
        "            'seller_type__cat',\n",
        "            'feature_czujniki-parkowania-przednie__cat',\n",
        "            'feature_poduszka-powietrzna-chroniąca-kolana__cat',\n",
        "            'feature_kurtyny-powietrzne__cat',\n",
        "            'feature_klimatyzacja-dwustrefowa__cat',\n",
        "            'feature_światła-led__cat',\n",
        "            'feature_czujnik-zmierzchu__cat',\n",
        "            'feature_elektrycznie-ustawiane-lusterka__cat',\n",
        "            'feature_asr-(kontrola-trakcji)__cat',\n",
        "            'feature_poduszka-powietrzna-kierowcy__cat',\n",
        "            'feature_cd__cat',\n",
        "            'feature_elektryczne-szyby-przednie__cat',\n",
        "            'feature_poduszka-powietrzna-pasażera__cat',\n",
        "            'feature_system-start-stop__cat',\n",
        "            'feature_światła-do-jazdy-dziennej__cat',\n",
        "            'feature_komputer-pokładowy__cat',\n",
        "            'feature_elektryczne-szyby-tylne__cat',\n",
        "            'feature_klimatyzacja-manualna__cat',\n",
        "            'feature_tapicerka-welurowa__cat',\n",
        "            'feature_czujnik-deszczu__cat',\n",
        "            'feature_światła-przeciwmgielne__cat',\n",
        "            'feature_ogrzewanie-postojowe__cat',\n",
        "            'feature_radio-niefabryczne__cat',\n",
        "            'feature_regulowane-zawieszenie__cat',\n",
        "            'feature_ogranicznik-prędkości__cat',\n",
        "            'feature_zmieniarka-cd__cat',\n",
        "            'feature_szyberdach__cat',\n",
        "            'feature_isofix__cat',\n",
        "            'feature_asystent-pasa-ruchu__cat',\n",
        "            'feature_alufelgi__cat',\n",
        "            'feature_bluetooth__cat',\n",
        "            'feature_nawigacja-gps__cat',\n",
        "            'feature_asystent-parkowania__cat',\n",
        "            'feature_wspomaganie-kierownicy__cat',\n",
        "            'feature_podgrzewana-przednia-szyba__cat',\n",
        "            'feature_przyciemniane-szyby__cat',\n",
        "            'feature_elektrycznie-ustawiane-fotele__cat',\n",
        "            'feature_klimatyzacja-czterostrefowa__cat',\n",
        "            'feature_tuner-tv__cat',\n",
        "            'feature_poduszki-boczne-przednie__cat',\n",
        "            'feature_tempomat-aktywny__cat',\n",
        "            'feature_klimatyzacja-automatyczna__cat',\n",
        "            'feature_poduszki-boczne-tylne__cat',\n",
        "            'feature_radio-fabryczne__cat',\n",
        "            'feature_odtwarzacz-dvd__cat',\n",
        "            'feature_czujniki-parkowania-tylne__cat',\n",
        "            'feature_łopatki-zmiany-biegów__cat',\n",
        "            'feature_centralny-zamek__cat',\n",
        "            'feature_dach-panoramiczny__cat',\n",
        "            'feature_kamera-cofania__cat',\n",
        "            'feature_immobilizer__cat',\n",
        "            'feature_czujnik-martwego-pola__cat',\n",
        "            'feature_gniazdo-sd__cat',\n",
        "            'feature_podgrzewane-lusterka-boczne__cat',\n",
        "            'feature_podgrzewane-przednie-siedzenia__cat',\n",
        "            'feature_hak__cat',\n",
        "            'feature_abs__cat',\n",
        "            'feature_wielofunkcyjna-kierownica__cat',\n",
        "            'feature_światła-xenonowe__cat',\n",
        "            'feature_gniazdo-usb__cat',\n",
        "            'feature_tapicerka-skórzana__cat',\n",
        "            'feature_gniazdo-aux__cat',\n",
        "            'feature_esp-(stabilizacja-toru-jazdy)__cat',\n",
        "            'feature_alarm__cat',\n",
        "            'feature_podgrzewane-tylne-siedzenia__cat',\n",
        "            'feature_mp3__cat',\n",
        "            'feature_tempomat__cat',\n",
        "            'feature_hud-(wyświetlacz-przezierny)__cat',\n",
        "            'feature_elektrochromatyczne-lusterko-wsteczne__cat',\n",
        "            'feature_relingi-dachowe__cat',\n",
        "            'feature_elektrochromatyczne-lusterka-boczne__cat',\n",
        "            'param_liczba-miejsc__cat',\n",
        "            'param_uszkodzony__cat',\n",
        "            'param_marka-pojazdu__cat',\n",
        "            'param_model__cat',\n",
        "            'param_engine-code__cat',\n",
        "            'param_liczba-drzwi__cat',\n",
        "            'param_first-registration__cat',\n",
        "            'param_country-of-origin__cat',\n",
        "            'param_pierwsza-rejestracja__cat',\n",
        "            'param_gearbox__cat',\n",
        "            'param_faktura-vat__cat',\n",
        "            'param_vin__cat',\n",
        "            'param_perłowy__cat',\n",
        "            'param_homologacja-ciężarowa__cat',\n",
        "            'param_service-record__cat',\n",
        "            'param_metallic__cat',\n",
        "            'param_leasing-concession__cat',\n",
        "            'param_color__cat',\n",
        "            'param_financing-option__cat',\n",
        "            'param_original-owner__cat',\n",
        "            'param_vat-marża__cat',\n",
        "            'param_kategoria__cat',\n",
        "            'param_co2-emissions__cat',\n",
        "            'param_leasing__cat',\n",
        "            'param_mileage__cat',\n",
        "            'param_zarejestrowany-jako-zabytek__cat',\n",
        "            'param_napęd__cat',\n",
        "            'param_wartość-wykupu__cat',\n",
        "            'param_typ__cat',\n",
        "            'param_metalik__cat',\n",
        "            'param_pierwszy-właściciel__cat',\n",
        "            'param_skrzynia-biegów__cat',\n",
        "            'param_vat-discount__cat',\n",
        "            'param_no-accident__cat',\n",
        "            'param_liczba-pozostałych-rat__cat',\n",
        "            'param_particle-filter__cat',\n",
        "            'param_zarejestrowany-w-polsce__cat',\n",
        "            'param_oferta-od__cat',\n",
        "            'param_make__cat',\n",
        "            'param_kraj-pochodzenia__cat',\n",
        "            'param_engine-power__cat',\n",
        "            'param_year__cat',\n",
        "            'param_serwisowany-w-aso__cat',\n",
        "            'param_rodzaj-paliwa__cat',\n",
        "            'param_możliwość-finansowania__cat',\n",
        "            'param_registered-in-poland__cat',\n",
        "            'param_transmission__cat',\n",
        "            'param_miesięczna-rata__cat',\n",
        "            'param_kod-silnika__cat',\n",
        "            'param_version__cat',\n",
        "            'param_opłata-początkowa__cat',\n",
        "            'param_model-pojazdu__cat',\n",
        "            'param_kierownica-po-prawej-(anglik)__cat',\n",
        "            'param_fuel-type__cat',\n",
        "            'param_vat-free__cat',\n",
        "            'param_acrylic__cat',\n",
        "            'param_damaged__cat',\n",
        "            'param_door-count__cat',\n",
        "            'param_tuning__cat',\n",
        "            'param_filtr-cząstek-stałych__cat',\n",
        "            'param_nr-of-seats__cat',\n",
        "            'param_kolor__cat',\n",
        "            'param_engine-capacity__cat',\n",
        "            'param_pearl__cat',\n",
        "            'param_stan__cat',\n",
        "            'param_wersja__cat',\n",
        "            'param_emisja-co2__cat',\n",
        "            'param_body-type__cat',\n",
        "            'param_matowy__cat',\n",
        "            'param_bezwypadkowy__cat',\n",
        "            'param_akryl-(niemetalizowany)__cat',\n",
        "            'param_monthly-payment-value__cat']"
      ],
      "execution_count": 0,
      "outputs": []
    },
    {
      "cell_type": "markdown",
      "metadata": {
        "id": "iKr8Nsyh3hME",
        "colab_type": "text"
      },
      "source": [
        "Hyperopt"
      ]
    },
    {
      "cell_type": "code",
      "metadata": {
        "id": "jtl8bKXK3j03",
        "colab_type": "code",
        "colab": {
          "base_uri": "https://localhost:8080/",
          "height": 991
        },
        "outputId": "7a6e31c2-a1a9-429f-d7a0-af1850f89503"
      },
      "source": [
        "def obj_func(params):\n",
        "  print(\"Training with params: \")\n",
        "  print(params)\n",
        "\n",
        "  mean_mae, score_std = run_model(xgb.XGBRegressor(**params), feats_big)\n",
        "\n",
        "  return {'loss': np.abs(mean_mae), 'status': STATUS_OK}\n",
        "\n",
        "\n",
        "#space\n",
        "xgb_reg_params = {\n",
        "      'learning_rate':    hp.choice('learning_rate', np.arange(0.01, 0.35, 0.01)),\n",
        "      'max_depth':        hp.choice('max_depth',     np.arange(8, 16, 1, dtype=int)),\n",
        "      'subsample':        hp.quniform('subsample', 0.5, 1, 0.01),\n",
        "      'colsample_bytree': hp.quniform('colsample_bytree', 0.5, 1, 0.01),\n",
        "      'objective':        'reg:squarederror',\n",
        "      'n_estimators':     100,\n",
        "      'seed': 0,\n",
        "      #'nthread': 2,\n",
        "}\n",
        "\n",
        "#run\n",
        "best = fmin(obj_func, xgb_reg_params, algo=tpe.suggest, max_evals=25)\n",
        "best"
      ],
      "execution_count": 38,
      "outputs": [
        {
          "output_type": "stream",
          "text": [
            "Training with params: \n",
            "{'colsample_bytree': 0.5, 'learning_rate': 0.18000000000000002, 'max_depth': 14, 'n_estimators': 100, 'objective': 'reg:squarederror', 'seed': 0, 'subsample': 0.77}\n",
            "Training with params: \n",
            "{'colsample_bytree': 0.6, 'learning_rate': 0.15000000000000002, 'max_depth': 11, 'n_estimators': 100, 'objective': 'reg:squarederror', 'seed': 0, 'subsample': 0.64}\n",
            "Training with params: \n",
            "{'colsample_bytree': 0.52, 'learning_rate': 0.13, 'max_depth': 12, 'n_estimators': 100, 'objective': 'reg:squarederror', 'seed': 0, 'subsample': 0.77}\n",
            "Training with params: \n",
            "{'colsample_bytree': 0.65, 'learning_rate': 0.33, 'max_depth': 13, 'n_estimators': 100, 'objective': 'reg:squarederror', 'seed': 0, 'subsample': 0.8}\n",
            "Training with params: \n",
            "{'colsample_bytree': 0.85, 'learning_rate': 0.28, 'max_depth': 14, 'n_estimators': 100, 'objective': 'reg:squarederror', 'seed': 0, 'subsample': 0.93}\n",
            "Training with params: \n",
            "{'colsample_bytree': 0.65, 'learning_rate': 0.15000000000000002, 'max_depth': 13, 'n_estimators': 100, 'objective': 'reg:squarederror', 'seed': 0, 'subsample': 0.97}\n",
            "Training with params: \n",
            "{'colsample_bytree': 0.88, 'learning_rate': 0.16, 'max_depth': 14, 'n_estimators': 100, 'objective': 'reg:squarederror', 'seed': 0, 'subsample': 0.72}\n",
            "Training with params: \n",
            "{'colsample_bytree': 0.8, 'learning_rate': 0.08, 'max_depth': 12, 'n_estimators': 100, 'objective': 'reg:squarederror', 'seed': 0, 'subsample': 0.51}\n",
            "Training with params: \n",
            "{'colsample_bytree': 0.88, 'learning_rate': 0.01, 'max_depth': 11, 'n_estimators': 100, 'objective': 'reg:squarederror', 'seed': 0, 'subsample': 0.55}\n",
            "Training with params: \n",
            "{'colsample_bytree': 0.84, 'learning_rate': 0.11, 'max_depth': 15, 'n_estimators': 100, 'objective': 'reg:squarederror', 'seed': 0, 'subsample': 0.6900000000000001}\n",
            "Training with params: \n",
            "{'colsample_bytree': 0.75, 'learning_rate': 0.29000000000000004, 'max_depth': 10, 'n_estimators': 100, 'objective': 'reg:squarederror', 'seed': 0, 'subsample': 0.72}\n",
            "Training with params: \n",
            "{'colsample_bytree': 0.79, 'learning_rate': 0.14, 'max_depth': 14, 'n_estimators': 100, 'objective': 'reg:squarederror', 'seed': 0, 'subsample': 0.67}\n",
            "Training with params: \n",
            "{'colsample_bytree': 0.74, 'learning_rate': 0.16, 'max_depth': 13, 'n_estimators': 100, 'objective': 'reg:squarederror', 'seed': 0, 'subsample': 0.79}\n",
            "Training with params: \n",
            "{'colsample_bytree': 0.97, 'learning_rate': 0.22, 'max_depth': 12, 'n_estimators': 100, 'objective': 'reg:squarederror', 'seed': 0, 'subsample': 0.85}\n",
            "Training with params: \n",
            "{'colsample_bytree': 0.9, 'learning_rate': 0.18000000000000002, 'max_depth': 8, 'n_estimators': 100, 'objective': 'reg:squarederror', 'seed': 0, 'subsample': 0.96}\n",
            "Training with params: \n",
            "{'colsample_bytree': 0.99, 'learning_rate': 0.06999999999999999, 'max_depth': 8, 'n_estimators': 100, 'objective': 'reg:squarederror', 'seed': 0, 'subsample': 0.85}\n",
            "Training with params: \n",
            "{'colsample_bytree': 0.75, 'learning_rate': 0.28, 'max_depth': 8, 'n_estimators': 100, 'objective': 'reg:squarederror', 'seed': 0, 'subsample': 0.75}\n",
            "Training with params: \n",
            "{'colsample_bytree': 0.5700000000000001, 'learning_rate': 0.09, 'max_depth': 11, 'n_estimators': 100, 'objective': 'reg:squarederror', 'seed': 0, 'subsample': 0.98}\n",
            "Training with params: \n",
            "{'colsample_bytree': 0.5700000000000001, 'learning_rate': 0.18000000000000002, 'max_depth': 13, 'n_estimators': 100, 'objective': 'reg:squarederror', 'seed': 0, 'subsample': 0.81}\n",
            "Training with params: \n",
            "{'colsample_bytree': 0.76, 'learning_rate': 0.28, 'max_depth': 9, 'n_estimators': 100, 'objective': 'reg:squarederror', 'seed': 0, 'subsample': 0.63}\n",
            "Training with params: \n",
            "{'colsample_bytree': 0.67, 'learning_rate': 0.15000000000000002, 'max_depth': 11, 'n_estimators': 100, 'objective': 'reg:squarederror', 'seed': 0, 'subsample': 1.0}\n",
            "Training with params: \n",
            "{'colsample_bytree': 0.6900000000000001, 'learning_rate': 0.09, 'max_depth': 11, 'n_estimators': 100, 'objective': 'reg:squarederror', 'seed': 0, 'subsample': 0.9}\n",
            "Training with params: \n",
            "{'colsample_bytree': 0.6900000000000001, 'learning_rate': 0.32, 'max_depth': 11, 'n_estimators': 100, 'objective': 'reg:squarederror', 'seed': 0, 'subsample': 0.91}\n",
            "Training with params: \n",
            "{'colsample_bytree': 0.6900000000000001, 'learning_rate': 0.25, 'max_depth': 11, 'n_estimators': 100, 'objective': 'reg:squarederror', 'seed': 0, 'subsample': 0.89}\n",
            "Training with params: \n",
            "{'colsample_bytree': 0.6900000000000001, 'learning_rate': 0.04, 'max_depth': 15, 'n_estimators': 100, 'objective': 'reg:squarederror', 'seed': 0, 'subsample': 0.88}\n",
            "100%|██████████| 25/25 [2:01:09<00:00, 286.11s/it, best loss: 6644.328243374788]\n"
          ],
          "name": "stdout"
        },
        {
          "output_type": "execute_result",
          "data": {
            "text/plain": [
              "{'colsample_bytree': 0.67,\n",
              " 'learning_rate': 14,\n",
              " 'max_depth': 3,\n",
              " 'subsample': 1.0}"
            ]
          },
          "metadata": {
            "tags": []
          },
          "execution_count": 38
        }
      ]
    }
  ]
}